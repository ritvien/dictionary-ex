{
 "cells": [
  {
   "cell_type": "code",
   "execution_count": 5,
   "id": "6f5bd271",
   "metadata": {},
   "outputs": [
    {
     "name": "stdout",
     "output_type": "stream",
     "text": [
      "Nhập từ cần dịch: gold\n",
      "Not found\n"
     ]
    }
   ],
   "source": [
    "#tra từ:\n",
    "dictionary = {'white' : 'màu trắng', 'green' : 'màu xanh lá cây', 'yellow': 'màu vàng',\n",
    "             'red':'màu đỏ', 'brown':'màu nâu','gray':'màu xám','black':'màu đen'}\n",
    "def findword(word,dic):\n",
    "    for key,val in dic.items():\n",
    "        if word == key:\n",
    "            print(val)\n",
    "            break\n",
    "        else:\n",
    "            print('Not found')\n",
    "            break\n",
    "input_word = input('Nhập từ cần dịch: ')\n",
    "findword(input_word,dictionary)"
   ]
  },
  {
   "cell_type": "code",
   "execution_count": 9,
   "id": "0d067f28",
   "metadata": {},
   "outputs": [
    {
     "name": "stdout",
     "output_type": "stream",
     "text": [
      "Enter string: lkjfgkhjflkghjldfkjg\n",
      "{'l': [3], 'j': [4], 'f': [3], 'd': [1], 'g': [3], 'k': [4], 'h': [2]}\n"
     ]
    }
   ],
   "source": [
    "#đếm chữ:\n",
    "inp_str = input('Enter string: ')\n",
    "count = dict()\n",
    "letter = set()\n",
    "for i in inp_str:\n",
    "    letter.add(i)\n",
    "for i in letter:\n",
    "    c = 0\n",
    "    for j in inp_str:\n",
    "        if i==j:\n",
    "            c+=1\n",
    "    count[i]=[c]\n",
    "print(count)"
   ]
  },
  {
   "cell_type": "code",
   "execution_count": 7,
   "id": "55d7df46",
   "metadata": {},
   "outputs": [
    {
     "name": "stdout",
     "output_type": "stream",
     "text": [
      "{1000: 'blue pen', 1001: 'pencil', 1002: 'watch', 1003: 'eraser', 1004: 'red pen', 1005: 'black pen', 1006: 'calculator'}\n",
      "Enter an option:\n",
      "    1. Add product\n",
      "    2.Update product\n",
      "    3.Delete product\n",
      "    4.Exit\n",
      "1\n",
      "Enter an id: 1007\n",
      "Enter the name of product: watch\n",
      "{1000: 'blue pen', 1001: 'pencil', 1002: 'watch', 1003: 'eraser', 1004: 'red pen', 1005: 'black pen', 1006: 'calculator', 1007: 'watch'}\n",
      "Enter an option:\n",
      "    1. Add product\n",
      "    2.Update product\n",
      "    3.Delete product\n",
      "    4.Exit\n",
      "3\n",
      "Enter an id: 1008\n",
      "Not found\n",
      "Enter an option:\n",
      "    1. Add product\n",
      "    2.Update product\n",
      "    3.Delete product\n",
      "    4.Exit\n",
      "1002\n",
      "Sorry, I cant help you!\n",
      "Enter an option:\n",
      "    1. Add product\n",
      "    2.Update product\n",
      "    3.Delete product\n",
      "    4.Exit\n",
      "3\n",
      "Enter an id: 1003\n",
      "1003 eraser\n",
      "{1000: 'blue pen', 1001: 'pencil', 1002: 'watch', 1004: 'red pen', 1005: 'black pen', 1006: 'calculator', 1007: 'watch'}\n",
      "Enter an option:\n",
      "    1. Add product\n",
      "    2.Update product\n",
      "    3.Delete product\n",
      "    4.Exit\n",
      "5\n",
      "Sorry, I cant help you!\n",
      "Enter an option:\n",
      "    1. Add product\n",
      "    2.Update product\n",
      "    3.Delete product\n",
      "    4.Exit\n",
      "4\n",
      "Bye\n"
     ]
    }
   ],
   "source": [
    "#Ứng dụng quản lý sản phẩm\n",
    "\n",
    "#b1: hàm tìm sp\n",
    "def findbyid(dic,num):\n",
    "    for k,val in dic.items():\n",
    "        if num==k:\n",
    "            print(k,val)\n",
    "            return True\n",
    "    return False\n",
    "#b2: hàm cập nhật danh sách sản phẩm\n",
    "def updatedb(dic,num,name):\n",
    "        dic[num]=name\n",
    "#b3:inds\n",
    "print(prds_db)\n",
    "#b45678:start\n",
    "while True:\n",
    "    print('''Enter an option:\n",
    "    1. Add product\n",
    "    2.Update product\n",
    "    3.Delete product\n",
    "    4.Exit''')\n",
    "    option = int(input())\n",
    "    if option ==1 or option ==2:\n",
    "        prd_id = int(input('Enter an id: '))\n",
    "        prd_name = input(\"Enter the name of product: \")\n",
    "        updatedb(prds_db,prd_id,prd_name)\n",
    "        print(prds_db)\n",
    "    elif option == 3:\n",
    "        prd_id = int(input('Enter an id: '))\n",
    "        if findbyid(prds_db,prd_id):\n",
    "            del(prds_db[prd_id])\n",
    "            print(prds_db)\n",
    "        else:\n",
    "            print('Not found')\n",
    "    elif option ==4:\n",
    "        print('Bye')\n",
    "        break\n",
    "    else:\n",
    "        print('Sorry, I cant help you!')"
   ]
  },
  {
   "cell_type": "code",
   "execution_count": 3,
   "id": "d988ac9b",
   "metadata": {},
   "outputs": [
    {
     "name": "stdout",
     "output_type": "stream",
     "text": [
      "{1000: 'blue pen', 1001: 'pencil', 1002: 'book', 1003: 'eraser', 1004: 'red pen', 1005: 'black pen', 1006: 'calculator'}\n"
     ]
    }
   ],
   "source": [
    "prds_db = {1000:'blue pen',1001:'pencil',1002:'book',1003:'eraser',1004:'red pen',1005:'black pen'}\n",
    "prds_db[1006]='calculator'\n",
    "print(prds_db)"
   ]
  },
  {
   "cell_type": "code",
   "execution_count": null,
   "id": "727685ff",
   "metadata": {},
   "outputs": [],
   "source": []
  }
 ],
 "metadata": {
  "kernelspec": {
   "display_name": "Python 3 (ipykernel)",
   "language": "python",
   "name": "python3"
  },
  "language_info": {
   "codemirror_mode": {
    "name": "ipython",
    "version": 3
   },
   "file_extension": ".py",
   "mimetype": "text/x-python",
   "name": "python",
   "nbconvert_exporter": "python",
   "pygments_lexer": "ipython3",
   "version": "3.9.13"
  }
 },
 "nbformat": 4,
 "nbformat_minor": 5
}
